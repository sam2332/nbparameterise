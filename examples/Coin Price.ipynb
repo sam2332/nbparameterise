{
 "cells": [
  {
   "cell_type": "markdown",
   "metadata": {},
   "source": [
    "Coin Prices  displays. Code cribbed from [this notebook](http://nbviewer.ipython.org/github/twiecki/financial-analysis-python-tutorial/blob/master/1.%20Pandas%20Basics.ipynb) by [Thomas Wiecki](https://github.com/twiecki)."
   ]
  },
  {
   "cell_type": "code",
   "execution_count": 1,
   "metadata": {
    "tags": [
     "Parameters"
    ]
    },
   "outputs": [],
   "source": [
    "COIN = ['bitcoin','eth','doge']   # Display names are stored in notebook metadata"
   ]
  },
  {
   "cell_type": "code",
   "execution_count": 8,
   "metadata": {},
   "outputs": [
    {
     "name": "stdout",
     "output_type": "stream",
     "text": [
      "price \t 39533.163560008565\n",
      "priceChangePercentage1h \t -0.50557679\n",
      "priceChangePercentage24h \t -5.957682\n",
      "priceChangePercentage7d \t -15.21001339\n",
      "priceChangePercentage30d \t 1.78687916\n",
      "priceChangePercentage60d \t -9.11395991\n",
      "priceChangePercentage90d \t -7.71148185\n",
      "marketCap \t 751492547683.68\n",
      "marketCapChangePercentage24h \t -5.9534\n",
      "fullyDilutedMarketCap \t 830196434760.18\n",
      "fullyDilutedMarketCapChangePercentage24h \t -5.96\n",
      "circulatingSupply \t 19009168\n",
      "totalSupply \t 19009168\n",
      "maxSupply \t 21000000\n",
      "marketCapDominance \t 41.005\n",
      "rank \t 1\n",
      "roi \t 29118.89398375\n",
      "low24h \t 39373.058328450235\n",
      "high24h \t 42424.59103711382\n",
      "low7d \t 39373.058328450235\n",
      "high7d \t 47106.13974053111\n",
      "low30d \t 37680.73446757749\n",
      "high30d \t 48086.836749156784\n",
      "low90d \t 33184.05956566154\n",
      "high90d \t 48086.836749156784\n",
      "low52w \t 28893.62165844\n",
      "high52w \t 68789.62593892214\n",
      "lowAllTime \t 65.5260009765625\n",
      "highAllTime \t 68789.62593892214\n",
      "lowAllTimeChangePercentage \t 60232.03\n",
      "highAllTimeChangePercentage \t -42.53\n",
      "lowAllTimeTimestamp \t 2013-07-05T18:56:01.000Z\n",
      "highAllTimeTimestamp \t 2021-11-10T14:17:02.000Z\n",
      "lowYesterday \t 39373.058328450235\n",
      "highYesterday \t 42424.59103711382\n",
      "openYesterday \t 42201.038230331425\n",
      "closeYesterday \t 39521.90132656629\n",
      "priceChangePercentageYesterday \t -6.35\n",
      "volumeYesterday \t 33949912165.86\n",
      "turnover \t 0.04513197\n",
      "ytdPriceChangePercentage \t -17.0983\n",
      "status \t \n",
      "volume \t 33916338175.989124\n",
      "volumeChangePercentage24h \t 91.0201\n"
     ]
    }
   ],
   "source": [
    "import requests\n",
    "try:\n",
    "    headers = {\n",
    "        'X-Mboum-Secret': \"demo\"\n",
    "    }\n",
    "    res = requests.get(\n",
    "        f\"https://mboum.com/api/v1/cr/crypto/coin/quote?key={COIN}\", \n",
    "        headers=headers\n",
    "    )\n",
    "    data = res.json()['data']\n",
    "    for key in data:\n",
    "        print(key,\"\\t\", data[key])\n",
    "except Exception as e:\n",
    "    print(e)"
   ]
  },
  {
   "cell_type": "code",
   "execution_count": null,
   "metadata": {},
   "outputs": [],
   "source": []
  }
 ],
 "metadata": {
  "kernelspec": {
   "display_name": "Python 3 (ipykernel)",
   "language": "python",
   "name": "python3"
  },
  "language_info": {
   "codemirror_mode": {
    "name": "ipython",
    "version": 3
   },
   "file_extension": ".py",
   "mimetype": "text/x-python",
   "name": "python",
   "nbconvert_exporter": "python",
   "pygments_lexer": "ipython3",
   "version": "3.8.10"
  },
  "parameterise": {
   "stock": {
    "display_name": "Stock symbol"
   }
  }
 },
 "nbformat": 4,
 "nbformat_minor": 1
}
