{
 "cells": [
  {
   "cell_type": "markdown",
   "metadata": {},
   "source": [
    "Curency Conversions by [Sam2332](https://github.com/sam2332)."
   ]
  },
  {
   "cell_type": "code",
   "execution_count": 1,
   "metadata": {},
   "outputs": [],
   "source": [
    "import datetime\n",
    "import requests\n",
    "import csv"
   ]
  },
  {
   "cell_type": "code",
   "execution_count": 2,
   "metadata": {
    "tags": [
     "Parameters"
    ]
    },
   "outputs": [],
   "source": [
    "starting_currency = 'USD'\n",
    "ending_currency = 'CAD'"
   ]
  },
  {
   "cell_type": "code",
   "execution_count": 3,
   "metadata": {},
   "outputs": [],
   "source": [
    "url = f\"http://www.bankofcanada.ca/valet/observations/FX{starting_currency}{ending_currency}/csv\""
   ]
  },
  {
   "cell_type": "code",
   "execution_count": 4,
   "metadata": {
    "scrolled": false
   },
   "outputs": [],
   "source": [
    "data = requests.get(url).text.strip().splitlines()[8:]\n",
    "keys = data.pop(0)\n",
    "keys = keys.split(',')\n",
    "keys = [i.strip('\"').strip(\"'\").strip() for i in keys]\n",
    "\n",
    "for row in csv.DictReader(data, keys):\n",
    "    print(row)"
   ]
  },
  {
   "cell_type": "code",
   "execution_count": null,
   "metadata": {},
   "outputs": [],
   "source": []
  }
 ],
 "metadata": {
  "kernelspec": {
   "display_name": "Python 3 (ipykernel)",
   "language": "python",
   "name": "python3"
  },
  "language_info": {
   "codemirror_mode": {
    "name": "ipython",
    "version": 3
   },
   "file_extension": ".py",
   "mimetype": "text/x-python",
   "name": "python",
   "nbconvert_exporter": "python",
   "pygments_lexer": "ipython3",
   "version": "3.8.10"
  },
  "parameterise": {
   "starting_currency": {
    "display_name": "Starting Currency"
   },
   "ending_currency": {
    "display_name": "Ending Currency"
   }
  }
 },
 "nbformat": 4,
 "nbformat_minor": 1
}
